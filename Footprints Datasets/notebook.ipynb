{
 "cells": [
  {
   "cell_type": "code",
   "execution_count": 3,
   "metadata": {},
   "outputs": [
    {
     "name": "stdout",
     "output_type": "stream",
     "text": [
      "WARNING:tensorflow:From C:\\Users\\misho\\AppData\\Local\\Packages\\PythonSoftwareFoundation.Python.3.11_qbz5n2kfra8p0\\LocalCache\\local-packages\\Python311\\site-packages\\keras\\src\\losses.py:2976: The name tf.losses.sparse_softmax_cross_entropy is deprecated. Please use tf.compat.v1.losses.sparse_softmax_cross_entropy instead.\n",
      "\n"
     ]
    }
   ],
   "source": [
    "import autokeras as ak\n",
    "\n",
    "import numpy as np\n",
    "from numpy import load\n",
    "from sklearn.model_selection import train_test_split\n",
    "from sklearn.preprocessing import MinMaxScaler\n",
    "\n",
    "import random"
   ]
  },
  {
   "cell_type": "code",
   "execution_count": 4,
   "metadata": {},
   "outputs": [],
   "source": [
    "real_data = load('real.npz')\n",
    "fake_data = load('fake.npz')\n",
    "\n",
    "Tx = 1998\n",
    "Nfreq = 101\n",
    "\n",
    "# add the real and fake data together with labels 0 for fake and 1 for real\n",
    "data = np.concatenate((real_data['x'], fake_data['x']))\n",
    "labels = np.concatenate((np.ones(real_data['x'].shape[0]), np.zeros(fake_data['x'].shape[0])))\n",
    "\n",
    "# shuffle the data\n",
    "random.shuffle(data)\n",
    "\n",
    "# scale the data\n",
    "scaler = MinMaxScaler()\n",
    "spectrograms = np.nan_to_num(data)\n",
    "data = scaler.fit_transform(spectrograms.reshape(-1, Tx * Nfreq)).reshape(-1, Tx, Nfreq, 1)\n"
   ]
  },
  {
   "cell_type": "code",
   "execution_count": 5,
   "metadata": {},
   "outputs": [],
   "source": [
    "X_train , X_test, y_train, y_test = train_test_split(data, labels, test_size=0.2, random_state=42)"
   ]
  },
  {
   "cell_type": "code",
   "execution_count": null,
   "metadata": {},
   "outputs": [],
   "source": [
    "X_train = X_train.reshape(X_train.shape[0], Tx, Nfreq, 1)\n",
    "X_test = X_test.reshape(X_test.shape[0], Tx, Nfreq, 1)\n",
    "\n",
    "clf = ak.ImageClassifier(overwrite=True, max_trials=2)\n",
    "clf.fit(X_train, y_train, epochs=10)\n",
    "\n",
    "# Evaluate the accuracy of the found model\n",
    "print(clf.evaluate(X_test, y_test))\n",
    "\n",
    "model = clf.export_model()\n",
    "\n",
    "model.summary()\n",
    "\n",
    "try:\n",
    "    model.save(\"model_autokeras\", save_format=\"tf\")\n",
    "except Exception:\n",
    "    model.save(\"model_autokeras.h5\")"
   ]
  }
 ],
 "metadata": {
  "kernelspec": {
   "display_name": "Python 3",
   "language": "python",
   "name": "python3"
  },
  "language_info": {
   "codemirror_mode": {
    "name": "ipython",
    "version": 3
   },
   "file_extension": ".py",
   "mimetype": "text/x-python",
   "name": "python",
   "nbconvert_exporter": "python",
   "pygments_lexer": "ipython3",
   "version": "3.11.8"
  }
 },
 "nbformat": 4,
 "nbformat_minor": 2
}
