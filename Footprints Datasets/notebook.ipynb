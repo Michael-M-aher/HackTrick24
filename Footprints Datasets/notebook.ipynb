{
 "cells": [
  {
   "cell_type": "code",
   "execution_count": 1,
   "metadata": {},
   "outputs": [
    {
     "name": "stdout",
     "output_type": "stream",
     "text": [
      "WARNING:tensorflow:From C:\\Users\\misho\\AppData\\Local\\Packages\\PythonSoftwareFoundation.Python.3.11_qbz5n2kfra8p0\\LocalCache\\local-packages\\Python311\\site-packages\\keras\\src\\losses.py:2976: The name tf.losses.sparse_softmax_cross_entropy is deprecated. Please use tf.compat.v1.losses.sparse_softmax_cross_entropy instead.\n",
      "\n"
     ]
    }
   ],
   "source": [
    "import autokeras as ak\n",
    "\n",
    "import numpy as np\n",
    "from numpy import load\n",
    "from PIL import Image\n",
    "from sklearn.model_selection import train_test_split\n",
    "from sklearn.preprocessing import MinMaxScaler\n",
    "\n",
    "import random"
   ]
  },
  {
   "cell_type": "code",
   "execution_count": 3,
   "metadata": {},
   "outputs": [],
   "source": [
    "real_data = load('real.npz')\n",
    "fake_data = load('fake.npz')\n",
    "\n",
    "Tx = 1998\n",
    "Nfreq = 101\n",
    "\n",
    "# add the real and fake data together with labels 0 for fake and 1 for real\n",
    "data = np.concatenate((real_data['x'], fake_data['x']))\n",
    "labels = np.concatenate((np.ones(real_data['x'].shape[0]), np.zeros(fake_data['x'].shape[0])))\n",
    "\n",
    "# shuffle the data\n",
    "random.shuffle(data)\n",
    "\n",
    "# scale the data\n",
    "scaler = MinMaxScaler()\n",
    "spectrograms = np.nan_to_num(data)\n",
    "data = scaler.fit_transform(spectrograms.reshape(-1, Tx * Nfreq)).reshape(-1, Tx, Nfreq, 1)\n"
   ]
  },
  {
   "cell_type": "code",
   "execution_count": 4,
   "metadata": {},
   "outputs": [],
   "source": [
    "X_train , X_test, y_train, y_test = train_test_split(data, labels, test_size=0.2, random_state=42)"
   ]
  },
  {
   "cell_type": "code",
   "execution_count": 5,
   "metadata": {},
   "outputs": [
    {
     "name": "stdout",
     "output_type": "stream",
     "text": [
      "WARNING:tensorflow:From C:\\Users\\misho\\AppData\\Local\\Packages\\PythonSoftwareFoundation.Python.3.11_qbz5n2kfra8p0\\LocalCache\\local-packages\\Python311\\site-packages\\keras\\src\\backend.py:277: The name tf.reset_default_graph is deprecated. Please use tf.compat.v1.reset_default_graph instead.\n",
      "\n",
      "WARNING:tensorflow:From C:\\Users\\misho\\AppData\\Local\\Packages\\PythonSoftwareFoundation.Python.3.11_qbz5n2kfra8p0\\LocalCache\\local-packages\\Python311\\site-packages\\autokeras\\utils\\data_utils.py:59: The name tf.data.get_output_shapes is deprecated. Please use tf.compat.v1.data.get_output_shapes instead.\n",
      "\n",
      "WARNING:tensorflow:From C:\\Users\\misho\\AppData\\Local\\Packages\\PythonSoftwareFoundation.Python.3.11_qbz5n2kfra8p0\\LocalCache\\local-packages\\Python311\\site-packages\\keras\\src\\layers\\normalization\\batch_normalization.py:979: The name tf.nn.fused_batch_norm is deprecated. Please use tf.compat.v1.nn.fused_batch_norm instead.\n",
      "\n",
      "\n",
      "Search: Running Trial #1\n",
      "\n",
      "Value             |Best Value So Far |Hyperparameter\n",
      "vanilla           |vanilla           |image_block_1/block_type\n",
      "True              |True              |image_block_1/normalize\n",
      "False             |False             |image_block_1/augment\n",
      "3                 |3                 |image_block_1/conv_block_1/kernel_size\n",
      "1                 |1                 |image_block_1/conv_block_1/num_blocks\n",
      "2                 |2                 |image_block_1/conv_block_1/num_layers\n",
      "True              |True              |image_block_1/conv_block_1/max_pooling\n",
      "False             |False             |image_block_1/conv_block_1/separable\n",
      "0.25              |0.25              |image_block_1/conv_block_1/dropout\n",
      "32                |32                |image_block_1/conv_block_1/filters_0_0\n",
      "64                |64                |image_block_1/conv_block_1/filters_0_1\n",
      "flatten           |flatten           |classification_head_1/spatial_reduction_1/reduction_type\n",
      "0.5               |0.5               |classification_head_1/dropout\n",
      "adam              |adam              |optimizer\n",
      "0.001             |0.001             |learning_rate\n",
      "\n",
      "Epoch 1/10\n",
      "WARNING:tensorflow:From C:\\Users\\misho\\AppData\\Local\\Packages\\PythonSoftwareFoundation.Python.3.11_qbz5n2kfra8p0\\LocalCache\\local-packages\\Python311\\site-packages\\keras\\src\\utils\\tf_utils.py:492: The name tf.ragged.RaggedTensorValue is deprecated. Please use tf.compat.v1.ragged.RaggedTensorValue instead.\n",
      "\n",
      "WARNING:tensorflow:From C:\\Users\\misho\\AppData\\Local\\Packages\\PythonSoftwareFoundation.Python.3.11_qbz5n2kfra8p0\\LocalCache\\local-packages\\Python311\\site-packages\\keras\\src\\engine\\base_layer_utils.py:384: The name tf.executing_eagerly_outside_functions is deprecated. Please use tf.compat.v1.executing_eagerly_outside_functions instead.\n",
      "\n",
      "31/31 [==============================] - 173s 5s/step - loss: 1.3419 - accuracy: 0.5494 - val_loss: 0.6763 - val_accuracy: 0.5288\n",
      "Epoch 2/10\n",
      "31/31 [==============================] - 155s 5s/step - loss: 0.6300 - accuracy: 0.7258 - val_loss: 0.6797 - val_accuracy: 0.5673\n",
      "Epoch 3/10\n",
      "31/31 [==============================] - 156s 5s/step - loss: 0.4770 - accuracy: 0.7974 - val_loss: 0.7826 - val_accuracy: 0.5913\n",
      "Epoch 4/10\n",
      "31/31 [==============================] - 156s 5s/step - loss: 0.4130 - accuracy: 0.8135 - val_loss: 0.8688 - val_accuracy: 0.6106\n",
      "Epoch 5/10\n",
      "19/31 [=================>............] - ETA: 58s - loss: 0.3373 - accuracy: 0.8355 "
     ]
    }
   ],
   "source": [
    "\n",
    "\n",
    "X_train = X_train.reshape(X_train.shape[0], Tx, Nfreq, 1)\n",
    "X_test = X_test.reshape(X_test.shape[0], Tx, Nfreq, 1)\n",
    "\n",
    "clf = ak.ImageClassifier(overwrite=True, max_trials=1)\n",
    "clf.fit(X_train, y_train, epochs=10)\n",
    "\n",
    "# Evaluate the accuracy of the found model\n",
    "print(clf.evaluate(X_test, y_test))\n",
    "clf.export_model().summary()"
   ]
  },
  {
   "cell_type": "code",
   "execution_count": null,
   "metadata": {},
   "outputs": [],
   "source": []
  }
 ],
 "metadata": {
  "kernelspec": {
   "display_name": "Python 3",
   "language": "python",
   "name": "python3"
  },
  "language_info": {
   "codemirror_mode": {
    "name": "ipython",
    "version": 3
   },
   "file_extension": ".py",
   "mimetype": "text/x-python",
   "name": "python",
   "nbconvert_exporter": "python",
   "pygments_lexer": "ipython3",
   "version": "3.11.8"
  }
 },
 "nbformat": 4,
 "nbformat_minor": 2
}
